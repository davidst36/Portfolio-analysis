{
 "cells": [
  {
   "cell_type": "code",
   "execution_count": 6,
   "id": "2188763d-cb23-4e7a-b265-21cb5e0fa74c",
   "metadata": {},
   "outputs": [],
   "source": [
    "import pandas as pd\n",
    "import numpy as pd\n",
    "import yfinance as yf\n",
    "import matplotlib.pyplot as plt\n",
    "plt.style.use(\"seaborn-v0_8\")"
   ]
  },
  {
   "cell_type": "code",
   "execution_count": 7,
   "id": "fa9974b3-6178-4394-9861-6d76cbc9fd21",
   "metadata": {},
   "outputs": [
    {
     "data": {
      "text/html": [
       "<div>\n",
       "<style scoped>\n",
       "    .dataframe tbody tr th:only-of-type {\n",
       "        vertical-align: middle;\n",
       "    }\n",
       "\n",
       "    .dataframe tbody tr th {\n",
       "        vertical-align: top;\n",
       "    }\n",
       "\n",
       "    .dataframe thead th {\n",
       "        text-align: right;\n",
       "    }\n",
       "</style>\n",
       "<table border=\"1\" class=\"dataframe\">\n",
       "  <thead>\n",
       "    <tr style=\"text-align: right;\">\n",
       "      <th></th>\n",
       "      <th>Close</th>\n",
       "    </tr>\n",
       "    <tr>\n",
       "      <th>Date</th>\n",
       "      <th></th>\n",
       "    </tr>\n",
       "  </thead>\n",
       "  <tbody>\n",
       "    <tr>\n",
       "      <th>1970-12-31</th>\n",
       "      <td>92.150002</td>\n",
       "    </tr>\n",
       "    <tr>\n",
       "      <th>1971-01-04</th>\n",
       "      <td>91.150002</td>\n",
       "    </tr>\n",
       "    <tr>\n",
       "      <th>1971-01-05</th>\n",
       "      <td>91.800003</td>\n",
       "    </tr>\n",
       "    <tr>\n",
       "      <th>1971-01-06</th>\n",
       "      <td>92.349998</td>\n",
       "    </tr>\n",
       "    <tr>\n",
       "      <th>1971-01-07</th>\n",
       "      <td>92.379997</td>\n",
       "    </tr>\n",
       "  </tbody>\n",
       "</table>\n",
       "</div>"
      ],
      "text/plain": [
       "                Close\n",
       "Date                 \n",
       "1970-12-31  92.150002\n",
       "1971-01-04  91.150002\n",
       "1971-01-05  91.800003\n",
       "1971-01-06  92.349998\n",
       "1971-01-07  92.379997"
      ]
     },
     "execution_count": 7,
     "metadata": {},
     "output_type": "execute_result"
    }
   ],
   "source": [
    "stocks "
   ]
  },
  {
   "cell_type": "code",
   "execution_count": 9,
   "id": "fc37d78b-1584-4482-b976-88d82f49307f",
   "metadata": {
    "scrolled": true
   },
   "outputs": [
    {
     "data": {
      "text/html": [
       "<div>\n",
       "<style scoped>\n",
       "    .dataframe tbody tr th:only-of-type {\n",
       "        vertical-align: middle;\n",
       "    }\n",
       "\n",
       "    .dataframe tbody tr th {\n",
       "        vertical-align: top;\n",
       "    }\n",
       "\n",
       "    .dataframe thead th {\n",
       "        text-align: right;\n",
       "    }\n",
       "</style>\n",
       "<table border=\"1\" class=\"dataframe\">\n",
       "  <thead>\n",
       "    <tr style=\"text-align: right;\">\n",
       "      <th></th>\n",
       "      <th>Close</th>\n",
       "    </tr>\n",
       "    <tr>\n",
       "      <th>Date</th>\n",
       "      <th></th>\n",
       "    </tr>\n",
       "  </thead>\n",
       "  <tbody>\n",
       "    <tr>\n",
       "      <th>2008-12-31</th>\n",
       "      <td>903.250000</td>\n",
       "    </tr>\n",
       "    <tr>\n",
       "      <th>2009-01-02</th>\n",
       "      <td>931.799988</td>\n",
       "    </tr>\n",
       "    <tr>\n",
       "      <th>2009-01-05</th>\n",
       "      <td>927.450012</td>\n",
       "    </tr>\n",
       "    <tr>\n",
       "      <th>2009-01-06</th>\n",
       "      <td>934.700012</td>\n",
       "    </tr>\n",
       "    <tr>\n",
       "      <th>2009-01-07</th>\n",
       "      <td>906.650024</td>\n",
       "    </tr>\n",
       "  </tbody>\n",
       "</table>\n",
       "</div>"
      ],
      "text/plain": [
       "                 Close\n",
       "Date                  \n",
       "2008-12-31  903.250000\n",
       "2009-01-02  931.799988\n",
       "2009-01-05  927.450012\n",
       "2009-01-06  934.700012\n",
       "2009-01-07  906.650024"
      ]
     },
     "execution_count": 9,
     "metadata": {},
     "output_type": "execute_result"
    }
   ],
   "source": [
    "SP500 = SP500.loc[\"2008-12-31\":\"2018-12-31\"].copy()\n",
    "SP500.head()"
   ]
  },
  {
   "cell_type": "code",
   "execution_count": 22,
   "id": "d542bb02-9f79-434e-b61f-11eb97e0d358",
   "metadata": {
    "scrolled": true
   },
   "outputs": [],
   "source": [
    "SP500[\"SMA\"] = SP500.Close.rolling(window = 100).mean()"
   ]
  },
  {
   "cell_type": "code",
   "execution_count": 23,
   "id": "8832cae9-1dd6-4fd3-a344-db617f6a8355",
   "metadata": {},
   "outputs": [],
   "source": [
    "SP500[\"EMA\"] = SP500.Close.ewm(span = 100, min_periods = 100).mean()"
   ]
  },
  {
   "cell_type": "code",
   "execution_count": 24,
   "id": "9b0e9606-5025-47f8-92b3-c82556bcb103",
   "metadata": {},
   "outputs": [
    {
     "data": {
      "text/html": [
       "<div>\n",
       "<style scoped>\n",
       "    .dataframe tbody tr th:only-of-type {\n",
       "        vertical-align: middle;\n",
       "    }\n",
       "\n",
       "    .dataframe tbody tr th {\n",
       "        vertical-align: top;\n",
       "    }\n",
       "\n",
       "    .dataframe thead th {\n",
       "        text-align: right;\n",
       "    }\n",
       "</style>\n",
       "<table border=\"1\" class=\"dataframe\">\n",
       "  <thead>\n",
       "    <tr style=\"text-align: right;\">\n",
       "      <th></th>\n",
       "      <th>Close</th>\n",
       "      <th>SMA</th>\n",
       "      <th>EMA</th>\n",
       "    </tr>\n",
       "    <tr>\n",
       "      <th>Date</th>\n",
       "      <th></th>\n",
       "      <th></th>\n",
       "      <th></th>\n",
       "    </tr>\n",
       "  </thead>\n",
       "  <tbody>\n",
       "    <tr>\n",
       "      <th>2008-12-31</th>\n",
       "      <td>903.250000</td>\n",
       "      <td>NaN</td>\n",
       "      <td>NaN</td>\n",
       "    </tr>\n",
       "    <tr>\n",
       "      <th>2009-01-02</th>\n",
       "      <td>931.799988</td>\n",
       "      <td>NaN</td>\n",
       "      <td>NaN</td>\n",
       "    </tr>\n",
       "    <tr>\n",
       "      <th>2009-01-05</th>\n",
       "      <td>927.450012</td>\n",
       "      <td>NaN</td>\n",
       "      <td>NaN</td>\n",
       "    </tr>\n",
       "    <tr>\n",
       "      <th>2009-01-06</th>\n",
       "      <td>934.700012</td>\n",
       "      <td>NaN</td>\n",
       "      <td>NaN</td>\n",
       "    </tr>\n",
       "    <tr>\n",
       "      <th>2009-01-07</th>\n",
       "      <td>906.650024</td>\n",
       "      <td>NaN</td>\n",
       "      <td>NaN</td>\n",
       "    </tr>\n",
       "    <tr>\n",
       "      <th>...</th>\n",
       "      <td>...</td>\n",
       "      <td>...</td>\n",
       "      <td>...</td>\n",
       "    </tr>\n",
       "    <tr>\n",
       "      <th>2018-12-21</th>\n",
       "      <td>2416.620117</td>\n",
       "      <td>2785.905496</td>\n",
       "      <td>2732.088580</td>\n",
       "    </tr>\n",
       "    <tr>\n",
       "      <th>2018-12-24</th>\n",
       "      <td>2351.100098</td>\n",
       "      <td>2781.282896</td>\n",
       "      <td>2724.544253</td>\n",
       "    </tr>\n",
       "    <tr>\n",
       "      <th>2018-12-26</th>\n",
       "      <td>2467.699951</td>\n",
       "      <td>2777.687695</td>\n",
       "      <td>2719.458228</td>\n",
       "    </tr>\n",
       "    <tr>\n",
       "      <th>2018-12-27</th>\n",
       "      <td>2488.830078</td>\n",
       "      <td>2774.172495</td>\n",
       "      <td>2714.891334</td>\n",
       "    </tr>\n",
       "    <tr>\n",
       "      <th>2018-12-28</th>\n",
       "      <td>2485.739990</td>\n",
       "      <td>2770.525896</td>\n",
       "      <td>2710.353683</td>\n",
       "    </tr>\n",
       "  </tbody>\n",
       "</table>\n",
       "<p>2516 rows × 3 columns</p>\n",
       "</div>"
      ],
      "text/plain": [
       "                  Close          SMA          EMA\n",
       "Date                                             \n",
       "2008-12-31   903.250000          NaN          NaN\n",
       "2009-01-02   931.799988          NaN          NaN\n",
       "2009-01-05   927.450012          NaN          NaN\n",
       "2009-01-06   934.700012          NaN          NaN\n",
       "2009-01-07   906.650024          NaN          NaN\n",
       "...                 ...          ...          ...\n",
       "2018-12-21  2416.620117  2785.905496  2732.088580\n",
       "2018-12-24  2351.100098  2781.282896  2724.544253\n",
       "2018-12-26  2467.699951  2777.687695  2719.458228\n",
       "2018-12-27  2488.830078  2774.172495  2714.891334\n",
       "2018-12-28  2485.739990  2770.525896  2710.353683\n",
       "\n",
       "[2516 rows x 3 columns]"
      ]
     },
     "execution_count": 24,
     "metadata": {},
     "output_type": "execute_result"
    }
   ],
   "source": [
    "SP500"
   ]
  },
  {
   "cell_type": "code",
   "execution_count": 25,
   "id": "9faeb6ba-dedc-4986-9eda-76e4ce94cca2",
   "metadata": {},
   "outputs": [
    {
     "data": {
      "image/png": "[encoded data removed]",
      "text/plain": [
       "<Figure size 800x550 with 1 Axes>"
      ]
     },
     "metadata": {},
     "output_type": "display_data"
    }
   ],
   "source": [
    "SP500.iloc[:,-2:].plot()\n",
    "plt.legend()\n",
    "plt.show()"
   ]
  },
  {
   "cell_type": "code",
   "execution_count": null,
   "id": "35c78bb0-1dbe-425a-986f-f93709e30da6",
   "metadata": {},
   "outputs": [],
   "source": [
    "annual.dropna(inplace = True)"
   ]
  },
  {
   "cell_type": "code",
   "execution_count": null,
   "id": "69001e48-2796-4f40-86a3-0df90ffff8a4",
   "metadata": {},
   "outputs": [],
   "source": [
    "years = annual.index.size\n",
    "years"
   ]
  },
  {
   "cell_type": "code",
   "execution_count": null,
   "id": "17e1b686-816d-4b69-873c-41e8dc9d8aac",
   "metadata": {},
   "outputs": [],
   "source": [
    "windows = [year for year in range(30, 0, -1)]"
   ]
  },
  {
   "cell_type": "code",
   "execution_count": null,
   "id": "723c4f1e-2b21-4293-a3f5-a42f3964450f",
   "metadata": {},
   "outputs": [],
   "source": [
    "for year in windows:\n",
    "    annual[\"{}Y\".format(year)] = np.exp(year*annual.Return.rolling(year).mean()).mean()"
   ]
  }
 ],
 "metadata": {
  "kernelspec": {
   "display_name": "Python 3 (ipykernel)",
   "language": "python",
   "name": "python3"
  },
  "language_info": {
   "codemirror_mode": {
    "name": "ipython",
    "version": 3
   },
   "file_extension": ".py",
   "mimetype": "text/x-python",
   "name": "python",
   "nbconvert_exporter": "python",
   "pygments_lexer": "ipython3",
   "version": "3.12.4"
  }
 },
 "nbformat": 4,
 "nbformat_minor": 5
}
